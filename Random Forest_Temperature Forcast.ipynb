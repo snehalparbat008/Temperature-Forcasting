{
 "metadata": {
  "hide_code_all_hidden": false,
  "kernelspec": {
   "display_name": "Python 3",
   "language": "python",
   "name": "python3"
  },
  "language_info": {
   "codemirror_mode": {
    "name": "ipython",
    "version": 3
   },
   "file_extension": ".py",
   "mimetype": "text/x-python",
   "name": "python",
   "nbconvert_exporter": "python",
   "pygments_lexer": "ipython3",
   "version": "3.7.6"
  },
  "name": ""
 },
 "nbformat": 3,
 "nbformat_minor": 0,
 "worksheets": [
  {
   "cells": [
    {
     "cell_type": "markdown",
     "metadata": {},
     "source": [
      "# Random Forest - Temperature Forecast\n",
      "\n",
      "### Predicting the max temperature for tomorrow in our city using one year of past weather data using Random Forest"
     ]
    },
    {
     "cell_type": "markdown",
     "metadata": {},
     "source": [
      "#### What data we have? \n",
      "\n",
      "- **one year of historical max temperatures data**\n",
      "\n",
      "**This is a supervised, regression machine learning problem.**"
     ]
    },
    {
     "cell_type": "heading",
     "level": 1,
     "metadata": {},
     "source": [
      "1. Load Data"
     ]
    },
    {
     "cell_type": "markdown",
     "metadata": {},
     "source": [
      "### Columns/Attributes\n",
      "\n",
      "1) year: 2019 for all data points\n",
      "\n",
      "2) month: number for month of the year\n",
      "\n",
      "3) day: number for day of the year\n",
      "\n",
      "4) week: day of the week as a character string\n",
      "\n",
      "5) temp_2: max temperature 2 days prior\n",
      "\n",
      "6) temp_1: max temperature 1 day prior\n",
      "\n",
      "7) average: historical average max temperature\n",
      "\n",
      "8) actual: max temperature measurement\n",
      "\n",
      "9) friend: your friend\u2019s prediction, a random number between 20 below the average and 20 above the average"
     ]
    },
    {
     "cell_type": "code",
     "collapsed": false,
     "input": [
      "# Pandas is used for data manipulation\n",
      "import pandas as pd\n",
      "\n",
      "# Read in data as pandas dataframe and display first 5 rows\n",
      "features = pd.read_csv('temps.csv')\n",
      "features.head(5)"
     ],
     "language": "python",
     "metadata": {
      "hideCode": false,
      "hidePrompt": false
     },
     "outputs": [
      {
       "html": [
        "<div>\n",
        "<style scoped>\n",
        "    .dataframe tbody tr th:only-of-type {\n",
        "        vertical-align: middle;\n",
        "    }\n",
        "\n",
        "    .dataframe tbody tr th {\n",
        "        vertical-align: top;\n",
        "    }\n",
        "\n",
        "    .dataframe thead th {\n",
        "        text-align: right;\n",
        "    }\n",
        "</style>\n",
        "<table border=\"1\" class=\"dataframe\">\n",
        "  <thead>\n",
        "    <tr style=\"text-align: right;\">\n",
        "      <th></th>\n",
        "      <th>year</th>\n",
        "      <th>month</th>\n",
        "      <th>day</th>\n",
        "      <th>week</th>\n",
        "      <th>temp_2</th>\n",
        "      <th>temp_1</th>\n",
        "      <th>average</th>\n",
        "      <th>actual</th>\n",
        "      <th>friend</th>\n",
        "    </tr>\n",
        "  </thead>\n",
        "  <tbody>\n",
        "    <tr>\n",
        "      <th>0</th>\n",
        "      <td>2019</td>\n",
        "      <td>1</td>\n",
        "      <td>1</td>\n",
        "      <td>Fri</td>\n",
        "      <td>45</td>\n",
        "      <td>45</td>\n",
        "      <td>45.6</td>\n",
        "      <td>45</td>\n",
        "      <td>29</td>\n",
        "    </tr>\n",
        "    <tr>\n",
        "      <th>1</th>\n",
        "      <td>2019</td>\n",
        "      <td>1</td>\n",
        "      <td>2</td>\n",
        "      <td>Sat</td>\n",
        "      <td>44</td>\n",
        "      <td>45</td>\n",
        "      <td>45.7</td>\n",
        "      <td>44</td>\n",
        "      <td>61</td>\n",
        "    </tr>\n",
        "    <tr>\n",
        "      <th>2</th>\n",
        "      <td>2019</td>\n",
        "      <td>1</td>\n",
        "      <td>3</td>\n",
        "      <td>Sun</td>\n",
        "      <td>45</td>\n",
        "      <td>44</td>\n",
        "      <td>45.8</td>\n",
        "      <td>41</td>\n",
        "      <td>56</td>\n",
        "    </tr>\n",
        "    <tr>\n",
        "      <th>3</th>\n",
        "      <td>2019</td>\n",
        "      <td>1</td>\n",
        "      <td>4</td>\n",
        "      <td>Mon</td>\n",
        "      <td>44</td>\n",
        "      <td>41</td>\n",
        "      <td>45.9</td>\n",
        "      <td>40</td>\n",
        "      <td>53</td>\n",
        "    </tr>\n",
        "    <tr>\n",
        "      <th>4</th>\n",
        "      <td>2019</td>\n",
        "      <td>1</td>\n",
        "      <td>5</td>\n",
        "      <td>Tues</td>\n",
        "      <td>41</td>\n",
        "      <td>40</td>\n",
        "      <td>46.0</td>\n",
        "      <td>44</td>\n",
        "      <td>41</td>\n",
        "    </tr>\n",
        "  </tbody>\n",
        "</table>\n",
        "</div>"
       ],
       "metadata": {},
       "output_type": "pyout",
       "prompt_number": 1,
       "text": [
        "   year  month  day  week  temp_2  temp_1  average  actual  friend\n",
        "0  2019      1    1   Fri      45      45     45.6      45      29\n",
        "1  2019      1    2   Sat      44      45     45.7      44      61\n",
        "2  2019      1    3   Sun      45      44     45.8      41      56\n",
        "3  2019      1    4   Mon      44      41     45.9      40      53\n",
        "4  2019      1    5  Tues      41      40     46.0      44      41"
       ]
      }
     ],
     "prompt_number": 1
    },
    {
     "cell_type": "heading",
     "level": 1,
     "metadata": {},
     "source": [
      "2. Data Preparation"
     ]
    },
    {
     "cell_type": "markdown",
     "metadata": {},
     "source": [
      "#### Preprocessing Steps\n",
      "\n",
      "1) One-hot encoded categorical variables\n",
      "\n",
      "2) Split data into features and labels\n",
      "\n",
      "3) Convert to arrays\n",
      "\n",
      "4) Split data into training and testing sets"
     ]
    },
    {
     "cell_type": "code",
     "collapsed": false,
     "input": [
      "print('The shape of our features is:', features.shape)"
     ],
     "language": "python",
     "metadata": {
      "hideCode": false,
      "hidePrompt": false
     },
     "outputs": [
      {
       "output_type": "stream",
       "stream": "stdout",
       "text": [
        "The shape of our features is: (348, 9)\n"
       ]
      }
     ],
     "prompt_number": 2
    },
    {
     "cell_type": "heading",
     "level": 3,
     "metadata": {},
     "source": [
      "2.1 Identify anomalies using summary statistics."
     ]
    },
    {
     "cell_type": "code",
     "collapsed": false,
     "input": [
      "# Descriptive statistics for each column\n",
      "features.describe()"
     ],
     "language": "python",
     "metadata": {},
     "outputs": [
      {
       "html": [
        "<div>\n",
        "<style scoped>\n",
        "    .dataframe tbody tr th:only-of-type {\n",
        "        vertical-align: middle;\n",
        "    }\n",
        "\n",
        "    .dataframe tbody tr th {\n",
        "        vertical-align: top;\n",
        "    }\n",
        "\n",
        "    .dataframe thead th {\n",
        "        text-align: right;\n",
        "    }\n",
        "</style>\n",
        "<table border=\"1\" class=\"dataframe\">\n",
        "  <thead>\n",
        "    <tr style=\"text-align: right;\">\n",
        "      <th></th>\n",
        "      <th>year</th>\n",
        "      <th>month</th>\n",
        "      <th>day</th>\n",
        "      <th>temp_2</th>\n",
        "      <th>temp_1</th>\n",
        "      <th>average</th>\n",
        "      <th>actual</th>\n",
        "      <th>friend</th>\n",
        "    </tr>\n",
        "  </thead>\n",
        "  <tbody>\n",
        "    <tr>\n",
        "      <th>count</th>\n",
        "      <td>348.0</td>\n",
        "      <td>348.000000</td>\n",
        "      <td>348.000000</td>\n",
        "      <td>348.000000</td>\n",
        "      <td>348.000000</td>\n",
        "      <td>348.000000</td>\n",
        "      <td>348.000000</td>\n",
        "      <td>348.000000</td>\n",
        "    </tr>\n",
        "    <tr>\n",
        "      <th>mean</th>\n",
        "      <td>2019.0</td>\n",
        "      <td>6.477011</td>\n",
        "      <td>15.514368</td>\n",
        "      <td>62.652299</td>\n",
        "      <td>62.701149</td>\n",
        "      <td>59.760632</td>\n",
        "      <td>62.543103</td>\n",
        "      <td>60.034483</td>\n",
        "    </tr>\n",
        "    <tr>\n",
        "      <th>std</th>\n",
        "      <td>0.0</td>\n",
        "      <td>3.498380</td>\n",
        "      <td>8.772982</td>\n",
        "      <td>12.165398</td>\n",
        "      <td>12.120542</td>\n",
        "      <td>10.527306</td>\n",
        "      <td>11.794146</td>\n",
        "      <td>15.626179</td>\n",
        "    </tr>\n",
        "    <tr>\n",
        "      <th>min</th>\n",
        "      <td>2019.0</td>\n",
        "      <td>1.000000</td>\n",
        "      <td>1.000000</td>\n",
        "      <td>35.000000</td>\n",
        "      <td>35.000000</td>\n",
        "      <td>45.100000</td>\n",
        "      <td>35.000000</td>\n",
        "      <td>28.000000</td>\n",
        "    </tr>\n",
        "    <tr>\n",
        "      <th>25%</th>\n",
        "      <td>2019.0</td>\n",
        "      <td>3.000000</td>\n",
        "      <td>8.000000</td>\n",
        "      <td>54.000000</td>\n",
        "      <td>54.000000</td>\n",
        "      <td>49.975000</td>\n",
        "      <td>54.000000</td>\n",
        "      <td>47.750000</td>\n",
        "    </tr>\n",
        "    <tr>\n",
        "      <th>50%</th>\n",
        "      <td>2019.0</td>\n",
        "      <td>6.000000</td>\n",
        "      <td>15.000000</td>\n",
        "      <td>62.500000</td>\n",
        "      <td>62.500000</td>\n",
        "      <td>58.200000</td>\n",
        "      <td>62.500000</td>\n",
        "      <td>60.000000</td>\n",
        "    </tr>\n",
        "    <tr>\n",
        "      <th>75%</th>\n",
        "      <td>2019.0</td>\n",
        "      <td>10.000000</td>\n",
        "      <td>23.000000</td>\n",
        "      <td>71.000000</td>\n",
        "      <td>71.000000</td>\n",
        "      <td>69.025000</td>\n",
        "      <td>71.000000</td>\n",
        "      <td>71.000000</td>\n",
        "    </tr>\n",
        "    <tr>\n",
        "      <th>max</th>\n",
        "      <td>2019.0</td>\n",
        "      <td>12.000000</td>\n",
        "      <td>31.000000</td>\n",
        "      <td>117.000000</td>\n",
        "      <td>117.000000</td>\n",
        "      <td>77.400000</td>\n",
        "      <td>92.000000</td>\n",
        "      <td>95.000000</td>\n",
        "    </tr>\n",
        "  </tbody>\n",
        "</table>\n",
        "</div>"
       ],
       "metadata": {},
       "output_type": "pyout",
       "prompt_number": 3,
       "text": [
        "         year       month         day      temp_2      temp_1     average  \\\n",
        "count   348.0  348.000000  348.000000  348.000000  348.000000  348.000000   \n",
        "mean   2019.0    6.477011   15.514368   62.652299   62.701149   59.760632   \n",
        "std       0.0    3.498380    8.772982   12.165398   12.120542   10.527306   \n",
        "min    2019.0    1.000000    1.000000   35.000000   35.000000   45.100000   \n",
        "25%    2019.0    3.000000    8.000000   54.000000   54.000000   49.975000   \n",
        "50%    2019.0    6.000000   15.000000   62.500000   62.500000   58.200000   \n",
        "75%    2019.0   10.000000   23.000000   71.000000   71.000000   69.025000   \n",
        "max    2019.0   12.000000   31.000000  117.000000  117.000000   77.400000   \n",
        "\n",
        "           actual      friend  \n",
        "count  348.000000  348.000000  \n",
        "mean    62.543103   60.034483  \n",
        "std     11.794146   15.626179  \n",
        "min     35.000000   28.000000  \n",
        "25%     54.000000   47.750000  \n",
        "50%     62.500000   60.000000  \n",
        "75%     71.000000   71.000000  \n",
        "max     92.000000   95.000000  "
       ]
      }
     ],
     "prompt_number": 3
    },
    {
     "cell_type": "heading",
     "level": 4,
     "metadata": {},
     "source": [
      "There are not any data points that immediately appear as anomalous and no zeros in any of the measurement columns."
     ]
    },
    {
     "cell_type": "markdown",
     "metadata": {},
     "source": [
      "\n",
      "#### Another method to verify the quality of the data is by making basic plots. Often it is easier to spot anomalies in a graph than in numbers."
     ]
    },
    {
     "cell_type": "code",
     "collapsed": false,
     "input": [
      "# Use datetime for dealing with dates\n",
      "import datetime\n",
      "\n",
      "# Get years, months, and days\n",
      "years = features['year']\n",
      "months = features['month']\n",
      "days = features['day']\n",
      "\n",
      "# List and then convert to datetime object\n",
      "dates = [str(int(year)) + '-' + str(int(month)) + '-' + str(int(day)) for year, month, day in zip(years, months, days)]\n",
      "dates = [datetime.datetime.strptime(date, '%Y-%m-%d') for date in dates]\n",
      "#dates"
     ],
     "language": "python",
     "metadata": {},
     "outputs": [],
     "prompt_number": 7
    },
    {
     "cell_type": "code",
     "collapsed": false,
     "input": [
      "# Import matplotlib for plotting and use magic command for Jupyter Notebooks\n",
      "import matplotlib.pyplot as plt\n",
      "\n",
      "%matplotlib inline\n",
      "\n",
      "# Set the style\n",
      "plt.style.use('fivethirtyeight')"
     ],
     "language": "python",
     "metadata": {},
     "outputs": [],
     "prompt_number": 8
    },
    {
     "cell_type": "code",
     "collapsed": false,
     "input": [
      "# Set up the plotting layout\n",
      "fig, ((ax1, ax2), (ax3, ax4)) = plt.subplots(nrows=2, ncols=2, figsize = (10,10))\n",
      "fig.autofmt_xdate(rotation = 45)\n",
      "\n",
      "# Actual max temperature measurement\n",
      "ax1.plot(dates, features['actual'])\n",
      "ax1.set_xlabel(''); ax1.set_ylabel('Temperature'); ax1.set_title('Max Temp')\n",
      "\n",
      "# Temperature from 1 day ago\n",
      "ax2.plot(dates, features['temp_1'])\n",
      "ax2.set_xlabel(''); ax2.set_ylabel('Temperature'); ax2.set_title('Previous Day Max Temp')\n",
      "\n",
      "# Temperature from 2 days ago\n",
      "ax3.plot(dates, features['temp_2'])\n",
      "ax3.set_xlabel('Date'); ax3.set_ylabel('Temperature'); ax3.set_title('Two Days Prior Max Temp')\n",
      "\n",
      "# Friend Estimate\n",
      "ax4.plot(dates, features['friend'])\n",
      "ax4.set_xlabel('Date'); ax4.set_ylabel('Temperature'); ax4.set_title('Friend Estimate')\n",
      "\n",
      "plt.tight_layout(pad=2)"
     ],
     "language": "python",
     "metadata": {},
     "outputs": [
      {
       "metadata": {},
       "output_type": "display_data",
       "png": "[encoded data removed]",
       "text": [
        "<Figure size 720x720 with 4 Axes>"
       ]
      }
     ],
     "prompt_number": 6
    },
    {
     "cell_type": "markdown",
     "metadata": {},
     "source": [
      "### 2.2 One-Hot Encoding\n",
      "\n",
      "#### Takes categorical variables, such as days of the week and converts it to a numerical representation without an arbitrary ordering. \n",
      "\n",
      "- Days of the week are intuitive to us because we use them all the time. \n",
      "\n",
      "- You will (hopefully) never find anyone who doesn\u2019t know that \u2018Mon\u2019 refers to the first day of the workweek, but machines do not have any intuitive knowledge. What computers know is numbers and for machine learning we must accommodate them. We could simply map days of the week to numbers 1\u20137, but this might lead to the algorithm placing more importance on Sunday because it has a higher numerical value."
     ]
    },
    {
     "cell_type": "code",
     "collapsed": false,
     "input": [
      "# One-hot encode categorical features\n",
      "features = pd.get_dummies(features)\n",
      "features.head(5)"
     ],
     "language": "python",
     "metadata": {
      "hideCode": false,
      "hidePrompt": false
     },
     "outputs": [
      {
       "html": [
        "<div>\n",
        "<style scoped>\n",
        "    .dataframe tbody tr th:only-of-type {\n",
        "        vertical-align: middle;\n",
        "    }\n",
        "\n",
        "    .dataframe tbody tr th {\n",
        "        vertical-align: top;\n",
        "    }\n",
        "\n",
        "    .dataframe thead th {\n",
        "        text-align: right;\n",
        "    }\n",
        "</style>\n",
        "<table border=\"1\" class=\"dataframe\">\n",
        "  <thead>\n",
        "    <tr style=\"text-align: right;\">\n",
        "      <th></th>\n",
        "      <th>year</th>\n",
        "      <th>month</th>\n",
        "      <th>day</th>\n",
        "      <th>temp_2</th>\n",
        "      <th>temp_1</th>\n",
        "      <th>average</th>\n",
        "      <th>actual</th>\n",
        "      <th>friend</th>\n",
        "      <th>week_Fri</th>\n",
        "      <th>week_Mon</th>\n",
        "      <th>week_Sat</th>\n",
        "      <th>week_Sun</th>\n",
        "      <th>week_Thurs</th>\n",
        "      <th>week_Tues</th>\n",
        "      <th>week_Wed</th>\n",
        "    </tr>\n",
        "  </thead>\n",
        "  <tbody>\n",
        "    <tr>\n",
        "      <th>0</th>\n",
        "      <td>2019</td>\n",
        "      <td>1</td>\n",
        "      <td>1</td>\n",
        "      <td>45</td>\n",
        "      <td>45</td>\n",
        "      <td>45.6</td>\n",
        "      <td>45</td>\n",
        "      <td>29</td>\n",
        "      <td>1</td>\n",
        "      <td>0</td>\n",
        "      <td>0</td>\n",
        "      <td>0</td>\n",
        "      <td>0</td>\n",
        "      <td>0</td>\n",
        "      <td>0</td>\n",
        "    </tr>\n",
        "    <tr>\n",
        "      <th>1</th>\n",
        "      <td>2019</td>\n",
        "      <td>1</td>\n",
        "      <td>2</td>\n",
        "      <td>44</td>\n",
        "      <td>45</td>\n",
        "      <td>45.7</td>\n",
        "      <td>44</td>\n",
        "      <td>61</td>\n",
        "      <td>0</td>\n",
        "      <td>0</td>\n",
        "      <td>1</td>\n",
        "      <td>0</td>\n",
        "      <td>0</td>\n",
        "      <td>0</td>\n",
        "      <td>0</td>\n",
        "    </tr>\n",
        "    <tr>\n",
        "      <th>2</th>\n",
        "      <td>2019</td>\n",
        "      <td>1</td>\n",
        "      <td>3</td>\n",
        "      <td>45</td>\n",
        "      <td>44</td>\n",
        "      <td>45.8</td>\n",
        "      <td>41</td>\n",
        "      <td>56</td>\n",
        "      <td>0</td>\n",
        "      <td>0</td>\n",
        "      <td>0</td>\n",
        "      <td>1</td>\n",
        "      <td>0</td>\n",
        "      <td>0</td>\n",
        "      <td>0</td>\n",
        "    </tr>\n",
        "    <tr>\n",
        "      <th>3</th>\n",
        "      <td>2019</td>\n",
        "      <td>1</td>\n",
        "      <td>4</td>\n",
        "      <td>44</td>\n",
        "      <td>41</td>\n",
        "      <td>45.9</td>\n",
        "      <td>40</td>\n",
        "      <td>53</td>\n",
        "      <td>0</td>\n",
        "      <td>1</td>\n",
        "      <td>0</td>\n",
        "      <td>0</td>\n",
        "      <td>0</td>\n",
        "      <td>0</td>\n",
        "      <td>0</td>\n",
        "    </tr>\n",
        "    <tr>\n",
        "      <th>4</th>\n",
        "      <td>2019</td>\n",
        "      <td>1</td>\n",
        "      <td>5</td>\n",
        "      <td>41</td>\n",
        "      <td>40</td>\n",
        "      <td>46.0</td>\n",
        "      <td>44</td>\n",
        "      <td>41</td>\n",
        "      <td>0</td>\n",
        "      <td>0</td>\n",
        "      <td>0</td>\n",
        "      <td>0</td>\n",
        "      <td>0</td>\n",
        "      <td>1</td>\n",
        "      <td>0</td>\n",
        "    </tr>\n",
        "  </tbody>\n",
        "</table>\n",
        "</div>"
       ],
       "metadata": {},
       "output_type": "pyout",
       "prompt_number": 9,
       "text": [
        "   year  month  day  temp_2  temp_1  average  actual  friend  week_Fri  \\\n",
        "0  2019      1    1      45      45     45.6      45      29         1   \n",
        "1  2019      1    2      44      45     45.7      44      61         0   \n",
        "2  2019      1    3      45      44     45.8      41      56         0   \n",
        "3  2019      1    4      44      41     45.9      40      53         0   \n",
        "4  2019      1    5      41      40     46.0      44      41         0   \n",
        "\n",
        "   week_Mon  week_Sat  week_Sun  week_Thurs  week_Tues  week_Wed  \n",
        "0         0         0         0           0          0         0  \n",
        "1         0         1         0           0          0         0  \n",
        "2         0         0         1           0          0         0  \n",
        "3         1         0         0           0          0         0  \n",
        "4         0         0         0           0          1         0  "
       ]
      }
     ],
     "prompt_number": 9
    },
    {
     "cell_type": "code",
     "collapsed": false,
     "input": [
      "print('Shape of features after one-hot encoding:', features.shape)"
     ],
     "language": "python",
     "metadata": {},
     "outputs": [
      {
       "output_type": "stream",
       "stream": "stdout",
       "text": [
        "Shape of features after one-hot encoding: (348, 15)\n"
       ]
      }
     ],
     "prompt_number": 10
    },
    {
     "cell_type": "markdown",
     "metadata": {},
     "source": [
      "### 2.3 Convert Features and Labels and Convert Data to Arrays\n",
      "\n"
     ]
    },
    {
     "cell_type": "code",
     "collapsed": false,
     "input": [
      "# Use numpy to convert to arrays\n",
      "import numpy as np\n",
      "\n",
      "# Labels are the values we want to predict\n",
      "labels = np.array(features['actual'])\n",
      "\n",
      "# Remove the labels from the features\n",
      "# axis 1 refers to the columns\n",
      "features= features.drop('actual', axis = 1)\n",
      "\n",
      "# Saving feature names for later use\n",
      "feature_list = list(features.columns)\n",
      "\n",
      "# Convert to numpy array\n",
      "features = np.array(features)"
     ],
     "language": "python",
     "metadata": {},
     "outputs": [],
     "prompt_number": 11
    },
    {
     "cell_type": "heading",
     "level": 3,
     "metadata": {},
     "source": [
      "2.4 Split the data into Training and Testing Sets"
     ]
    },
    {
     "cell_type": "code",
     "collapsed": false,
     "input": [
      "# Using Skicit-learn to split data into training and testing sets\n",
      "from sklearn.model_selection import train_test_split\n",
      "\n",
      "# Split the data into training and testing sets\n",
      "train_features, test_features, train_labels, test_labels = train_test_split(features, \n",
      "                                                                            labels, \n",
      "                                                                            test_size = 0.25,\n",
      "                                                                            random_state = 42)"
     ],
     "language": "python",
     "metadata": {},
     "outputs": [],
     "prompt_number": 12
    },
    {
     "cell_type": "code",
     "collapsed": false,
     "input": [
      "print('Training Features Shape:', train_features.shape)\n",
      "print('Training Labels Shape:', train_labels.shape)\n",
      "print('Testing Features Shape:', test_features.shape)\n",
      "print('Testing Labels Shape:', test_labels.shape)"
     ],
     "language": "python",
     "metadata": {},
     "outputs": [
      {
       "output_type": "stream",
       "stream": "stdout",
       "text": [
        "Training Features Shape: (261, 14)\n",
        "Training Labels Shape: (261,)\n",
        "Testing Features Shape: (87, 14)\n",
        "Testing Labels Shape: (87,)\n"
       ]
      }
     ],
     "prompt_number": 13
    },
    {
     "cell_type": "markdown",
     "metadata": {},
     "source": [
      "# 3. Simple Baseline Predictions - Just compute average\n",
      "\n",
      "Before we can make and evaluate predictions, we need to establish a baseline, a sensible measure that we hope to beat with our model. \n",
      "\n",
      "If our model cannot improve upon the baseline, then it will be a failure and we should try a different model or admit that machine learning is not right for our problem. \n",
      "\n",
      "**The baseline prediction for our case can be the historical max temperature averages.*"
     ]
    },
    {
     "cell_type": "code",
     "collapsed": false,
     "input": [
      "# The baseline predictions are the historical averages\n",
      "baseline_preds = test_features[:, feature_list.index('average')]\n",
      "\n",
      "# Baseline errors, and display average baseline error\n",
      "baseline_errors = abs(baseline_preds - test_labels)\n",
      "print('Average baseline error: ', round(np.mean(baseline_errors), 2), 'degrees.')"
     ],
     "language": "python",
     "metadata": {},
     "outputs": [
      {
       "output_type": "stream",
       "stream": "stdout",
       "text": [
        "Average baseline error:  5.06 degrees.\n"
       ]
      }
     ],
     "prompt_number": 12
    },
    {
     "cell_type": "heading",
     "level": 3,
     "metadata": {},
     "source": [
      "Just doing average gave a forecast with an error of 5.06 degrees...Now, let us target to build a model with error less than our base line which is 5.06 degrees"
     ]
    },
    {
     "cell_type": "markdown",
     "metadata": {},
     "source": [
      "# 4. Train Model\n",
      "\n",
      "We import the random forest regression model from skicit-learn, instantiate the model, and fit (scikit-learn\u2019s name for training) the model on the training data. (setting the random state for reproducible results)."
     ]
    },
    {
     "cell_type": "code",
     "collapsed": false,
     "input": [
      "# Import the model we are using\n",
      "from sklearn.ensemble import RandomForestRegressor\n",
      "\n",
      "# Instantiate model - 100 trees\n",
      "rf = RandomForestRegressor(n_estimators= 100, \n",
      "                           random_state=42)\n",
      "\n",
      "# Train the model on training data\n",
      "rf.fit(train_features, train_labels)"
     ],
     "language": "python",
     "metadata": {
      "hideCode": false,
      "hidePrompt": false
     },
     "outputs": [
      {
       "metadata": {},
       "output_type": "pyout",
       "prompt_number": 14,
       "text": [
        "RandomForestRegressor(bootstrap=True, ccp_alpha=0.0, criterion='mse',\n",
        "                      max_depth=None, max_features='auto', max_leaf_nodes=None,\n",
        "                      max_samples=None, min_impurity_decrease=0.0,\n",
        "                      min_impurity_split=None, min_samples_leaf=1,\n",
        "                      min_samples_split=2, min_weight_fraction_leaf=0.0,\n",
        "                      n_estimators=100, n_jobs=None, oob_score=False,\n",
        "                      random_state=42, verbose=0, warm_start=False)"
       ]
      }
     ],
     "prompt_number": 14
    },
    {
     "cell_type": "markdown",
     "metadata": {},
     "source": [
      "# 5. Make Predictions on Test Data\n",
      "\n",
      "Our model has now been trained to learn the relationships between the features and the targets. The next step is figuring out how good the model is! To do this we make predictions on the test features (the model is never allowed to see the test answers). \n",
      "\n",
      "We then compare the predictions to the known answers. When performing regression, we need to make sure to use the absolute error because we expect some of our answers to be low and some to be high. "
     ]
    },
    {
     "cell_type": "code",
     "collapsed": false,
     "input": [
      "# Use the forest's predict method on the test data\n",
      "predictions = rf.predict(test_features)\n",
      "\n",
      "# Calculate the absolute errors\n",
      "errors = abs(predictions - test_labels)\n",
      "\n",
      "# Print out the mean absolute error (mae)\n",
      "print('Mean Absolute Error:', round(np.mean(errors), 2), 'degrees.')\n"
     ],
     "language": "python",
     "metadata": {},
     "outputs": [
      {
       "output_type": "stream",
       "stream": "stdout",
       "text": [
        "Mean Absolute Error: 3.92 degrees.\n"
       ]
      }
     ],
     "prompt_number": 15
    },
    {
     "cell_type": "markdown",
     "metadata": {},
     "source": [
      "###  Model Error = 3.92 degrees < Base Line Error = 5.06 degrees\n",
      "\n",
      "##### It is nearly 25% better than the baseline...Still we may not be happy"
     ]
    },
    {
     "cell_type": "heading",
     "level": 1,
     "metadata": {},
     "source": [
      "6. Determine Performance Metrics"
     ]
    },
    {
     "cell_type": "code",
     "collapsed": false,
     "input": [
      "# Calculate mean absolute percentage error (MAPE)\n",
      "mape = 100 * (errors / test_labels)\n",
      "\n",
      "# Calculate and display accuracy\n",
      "accuracy = 100 - np.mean(mape)\n",
      "print('Accuracy:', round(accuracy, 2), '%.')"
     ],
     "language": "python",
     "metadata": {},
     "outputs": [
      {
       "output_type": "stream",
       "stream": "stdout",
       "text": [
        "Accuracy: 93.93 %.\n"
       ]
      }
     ],
     "prompt_number": 25
    },
    {
     "cell_type": "heading",
     "level": 1,
     "metadata": {},
     "source": [
      "7. Improve Model - Tuning"
     ]
    },
    {
     "cell_type": "markdown",
     "metadata": {},
     "source": [
      "We can create models with different hyperparameters to try and boost performance. The only way to find the best ones\n",
      "are to try a few and evaluate them! "
     ]
    },
    {
     "cell_type": "code",
     "collapsed": false,
     "input": [
      "rf_new = RandomForestRegressor(n_estimators = 500, \n",
      "                               criterion = 'mse', \n",
      "                               max_depth = 5\n",
      "                              )\n",
      "# Train the model on training data\n",
      "rf_new.fit(train_features, train_labels)"
     ],
     "language": "python",
     "metadata": {},
     "outputs": [
      {
       "metadata": {},
       "output_type": "pyout",
       "prompt_number": 30,
       "text": [
        "RandomForestRegressor(bootstrap=True, ccp_alpha=0.0, criterion='mse',\n",
        "                      max_depth=5, max_features='auto', max_leaf_nodes=None,\n",
        "                      max_samples=None, min_impurity_decrease=0.0,\n",
        "                      min_impurity_split=None, min_samples_leaf=1,\n",
        "                      min_samples_split=2, min_weight_fraction_leaf=0.0,\n",
        "                      n_estimators=500, n_jobs=None, oob_score=False,\n",
        "                      random_state=None, verbose=0, warm_start=False)"
       ]
      }
     ],
     "prompt_number": 30
    },
    {
     "cell_type": "code",
     "collapsed": false,
     "input": [
      "# Use the forest's predict method on the test data with new model rf_new\n",
      "predictions2 = rf_new.predict(test_features)\n",
      "\n",
      "# Calculate the absolute errors\n",
      "errors = abs(predictions2 - test_labels)\n",
      "\n",
      "# Print out the mean absolute error (mae)\n",
      "print('Mean Absolute Error:', round(np.mean(errors), 2), 'degrees.')\n"
     ],
     "language": "python",
     "metadata": {},
     "outputs": [
      {
       "output_type": "stream",
       "stream": "stdout",
       "text": [
        "Mean Absolute Error: 3.81 degrees.\n"
       ]
      }
     ],
     "prompt_number": 31
    },
    {
     "cell_type": "markdown",
     "metadata": {},
     "source": [
      "#### New model has improved the error from 3.97 to 3.81\n",
      "#### We can tune other hyper paramters as well..."
     ]
    },
    {
     "cell_type": "markdown",
     "metadata": {},
     "source": [
      "# 8. Variable importance and feature selection\n",
      "\n",
      "At this point, we know our model is good, but it\u2019s pretty much a black box. We feed in some Numpy arrays for training, ask it to make a prediction, evaluate the predictions, and see that they are reasonable. \n",
      "\n",
      "The question is: how does this model arrive at the values? \n",
      "\n",
      "we can look at the feature importances of our explanatory variables."
     ]
    },
    {
     "cell_type": "markdown",
     "metadata": {},
     "source": [
      "### 8.1 Variable Importances\n",
      "\n",
      "- In order to quantify the usefulness of all the variables in the entire random forest, we can look at the relative importances of the variables. \n",
      "\n",
      "- The importances returned in Skicit-learn represent how much including a particular variable improves the prediction."
     ]
    },
    {
     "cell_type": "code",
     "collapsed": false,
     "input": [
      "# simplest way..\n",
      "rf.feature_importances_"
     ],
     "language": "python",
     "metadata": {},
     "outputs": [
      {
       "metadata": {},
       "output_type": "pyout",
       "prompt_number": 37,
       "text": [
        "array([0.        , 0.01295808, 0.02494456, 0.0227458 , 0.72733161,\n",
        "       0.16517316, 0.02492068, 0.00455151, 0.00267595, 0.0050325 ,\n",
        "       0.00300585, 0.00161419, 0.00254124, 0.00250488])"
       ]
      }
     ],
     "prompt_number": 37
    },
    {
     "cell_type": "code",
     "collapsed": false,
     "input": [
      "# Get numerical feature importances - Represent in a better way\n",
      "importances = list(rf.feature_importances_)\n",
      "\n",
      "# List of tuples with variable and importance\n",
      "feature_importances = [(feature, round(importance, 2)) for feature, importance in zip(feature_list, importances)]\n",
      "\n",
      "# Sort the feature importances by most important first\n",
      "feature_importances = sorted(feature_importances, key = lambda x: x[1], reverse = True)\n",
      "\n",
      "# Print out the feature and importances \n",
      "[print('Variable: {:20} Importance: {}'.format(*pair)) for pair in feature_importances];"
     ],
     "language": "python",
     "metadata": {},
     "outputs": [
      {
       "output_type": "stream",
       "stream": "stdout",
       "text": [
        "Variable: temp_1               Importance: 0.73\n",
        "Variable: average              Importance: 0.17\n",
        "Variable: day                  Importance: 0.02\n",
        "Variable: temp_2               Importance: 0.02\n",
        "Variable: friend               Importance: 0.02\n",
        "Variable: month                Importance: 0.01\n",
        "Variable: week_Sat             Importance: 0.01\n",
        "Variable: year                 Importance: 0.0\n",
        "Variable: week_Fri             Importance: 0.0\n",
        "Variable: week_Mon             Importance: 0.0\n",
        "Variable: week_Sun             Importance: 0.0\n",
        "Variable: week_Thurs           Importance: 0.0\n",
        "Variable: week_Tues            Importance: 0.0\n",
        "Variable: week_Wed             Importance: 0.0\n"
       ]
      }
     ],
     "prompt_number": 38
    },
    {
     "cell_type": "markdown",
     "metadata": {},
     "source": [
      "### 8.2 Model with Two Most Important Features\n",
      "\n",
      "we can remove those variables that have no importance and the performance will not suffer. Additionally, if we are using a different model, say a support vector machine, we could use the random forest feature importances as a kind of feature selection method."
     ]
    },
    {
     "cell_type": "code",
     "collapsed": false,
     "input": [
      "# New random forest with only the two most important variables\n",
      "rf_most_important = RandomForestRegressor(n_estimators= 1000, \n",
      "                                          random_state=42)\n",
      "\n",
      "# Extract the two most important features\n",
      "important_indices = [feature_list.index('temp_1'), feature_list.index('average')]\n",
      "train_important = train_features[:, important_indices]\n",
      "test_important = test_features[:, important_indices]\n",
      "\n",
      "# Train the random forest\n",
      "rf_most_important.fit(train_important, train_labels)\n",
      "\n",
      "# Make predictions and determine the error\n",
      "predictions = rf_most_important.predict(test_important)\n",
      "\n",
      "errors = abs(predictions - test_labels)\n",
      "\n",
      "# Display the performance metrics\n",
      "print('Mean Absolute Error:', round(np.mean(errors), 2), 'degrees.')\n",
      "\n",
      "mape = np.mean(100 * (errors / test_labels))\n",
      "accuracy = 100 - mape\n",
      "\n",
      "print('Accuracy:', round(accuracy, 2), '%.')"
     ],
     "language": "python",
     "metadata": {},
     "outputs": [
      {
       "output_type": "stream",
       "stream": "stdout",
       "text": [
        "Mean Absolute Error: 3.92 degrees.\n",
        "Accuracy: 93.76 %.\n"
       ]
      }
     ],
     "prompt_number": 39
    },
    {
     "cell_type": "markdown",
     "metadata": {},
     "source": [
      "This tells us that we actually do not need all the data we collected to make accurate predictions! If we were to continue using this model, we could only collect the two variables and achieve nearly the same performance. In a production setting, we would need to weigh the decrease in accuracy versus the extra time required to obtain more information. "
     ]
    },
    {
     "cell_type": "heading",
     "level": 2,
     "metadata": {
      "collapsed": true
     },
     "source": [
      "8.3 Visualizations"
     ]
    },
    {
     "cell_type": "heading",
     "level": 3,
     "metadata": {},
     "source": [
      "8.3.1 Variable Importances"
     ]
    },
    {
     "cell_type": "code",
     "collapsed": false,
     "input": [
      "# list of x locations for plotting\n",
      "x_values = list(range(len(importances)))\n",
      "\n",
      "# Make a bar chart\n",
      "plt.bar(x_values, importances, orientation = 'vertical')\n",
      "\n",
      "# Tick labels for x axis\n",
      "plt.xticks(x_values, feature_list, rotation='vertical')\n",
      "\n",
      "# Axis labels and title\n",
      "plt.ylabel('Importance'); plt.xlabel('Variable'); plt.title('Variable Importances'); "
     ],
     "language": "python",
     "metadata": {},
     "outputs": [
      {
       "metadata": {},
       "output_type": "display_data",
       "png": "[encoded data removed]",
       "text": [
        "<Figure size 432x288 with 1 Axes>"
       ]
      }
     ],
     "prompt_number": 40
    },
    {
     "cell_type": "markdown",
     "metadata": {},
     "source": [
      "### 8.3.2. Predictions and Actual Values\n",
      "\n",
      "we can plot the entire dataset with predictions highlighted. This requires a little data manipulation, but its not too difficult. We can use this plot to determine if there are any outliers in either the data or our predictions."
     ]
    },
    {
     "cell_type": "code",
     "collapsed": false,
     "input": [
      "# Dates of training values\n",
      "months = features[:, feature_list.index('month')]\n",
      "days = features[:, feature_list.index('day')]\n",
      "years = features[:, feature_list.index('year')]\n",
      "\n",
      "# List and then convert to datetime object\n",
      "dates = [str(int(year)) + '-' + str(int(month)) + '-' + str(int(day)) for year, month, day in zip(years, months, days)]\n",
      "dates = [datetime.datetime.strptime(date, '%Y-%m-%d') for date in dates]\n",
      "\n",
      "# Dataframe with true values and dates\n",
      "true_data = pd.DataFrame(data = {'date': dates, 'actual': labels})\n",
      "\n",
      "# Dates of predictions\n",
      "months = test_features[:, feature_list.index('month')]\n",
      "days = test_features[:, feature_list.index('day')]\n",
      "years = test_features[:, feature_list.index('year')]\n",
      "\n",
      "# Column of dates\n",
      "test_dates = [str(int(year)) + '-' + str(int(month)) + '-' + str(int(day)) for year, month, day in zip(years, months, days)]\n",
      "\n",
      "# Convert to datetime objects\n",
      "test_dates = [datetime.datetime.strptime(date, '%Y-%m-%d') for date in test_dates]\n",
      "\n",
      "# Dataframe with predictions and dates\n",
      "predictions_data = pd.DataFrame(data = {'date': test_dates, 'prediction': predictions}) "
     ],
     "language": "python",
     "metadata": {},
     "outputs": [],
     "prompt_number": 41
    },
    {
     "cell_type": "code",
     "collapsed": false,
     "input": [
      "# Plot the actual values\n",
      "plt.plot(true_data['date'], true_data['actual'], 'b-', label = 'actual')\n",
      "\n",
      "# Plot the predicted values\n",
      "plt.plot(predictions_data['date'], predictions_data['prediction'], 'ro', label = 'prediction')\n",
      "plt.xticks(rotation = '60'); \n",
      "plt.legend()\n",
      "\n",
      "# Graph labels\n",
      "plt.xlabel('Date'); plt.ylabel('Maximum Temperature (F)'); plt.title('Actual and Predicted Values');\n"
     ],
     "language": "python",
     "metadata": {},
     "outputs": [
      {
       "metadata": {},
       "output_type": "display_data",
       "png": "[encoded data removed]",
       "text": [
        "<Figure size 432x288 with 1 Axes>"
       ]
      }
     ],
     "prompt_number": 42
    },
    {
     "cell_type": "markdown",
     "metadata": {
      "collapsed": true
     },
     "source": [
      "we can see why the max temperature one day prior and the historical max temperature are useful for predicting max temperature while our friend is not"
     ]
    }
   ],
   "metadata": {}
  }
 ]
}